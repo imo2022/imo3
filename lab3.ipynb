{
 "cells": [
  {
   "cell_type": "code",
   "execution_count": null,
   "metadata": {
    "collapsed": true,
    "pycharm": {
     "name": "#%%\n"
    }
   },
   "outputs": [],
   "source": [
    "import numpy as np\n",
    "import pandas as pd\n",
    "import importlib\n",
    "import matplotlib.pyplot as plt\n",
    "from scipy.spatial import distance\n",
    "plt.rc('figure', figsize=(8, 5))\n",
    "import helpers as h"
   ]
  },
  {
   "cell_type": "code",
   "execution_count": null,
   "outputs": [],
   "source": [
    "importlib.reload(h)"
   ],
   "metadata": {
    "collapsed": false,
    "pycharm": {
     "name": "#%%\n"
    }
   }
  },
  {
   "cell_type": "code",
   "execution_count": null,
   "outputs": [],
   "source": [
    "def edge_exists(cycle, i, j):\n",
    "    for x in range(len(cycle) - 1):\n",
    "        if (cycle[x], cycle[x+1]) == (i, j) or (cycle[x], cycle[x+1]) == (j , i):\n",
    "            return True\n",
    "        if (cycle[-1], cycle[0]) == (i, j) or (cycle[-1], cycle[0]) == (j , i):\n",
    "            return True\n",
    "    return None\n",
    "\n",
    "def any_edge_exist(cycle1, cycle2, i, j):\n",
    "    for id, c in enumerate([cycle1, cycle2]):\n",
    "        exist = edge_exists(c, i, j)\n",
    "        if exist:\n",
    "            return id, exist\n",
    "    return None, None\n",
    "\n",
    "def new_moves(cycle1, cycle2, distances, move):\n",
    "    _, type_of_transformation, id, _, i, _, _, j, _ = move\n",
    "    moves = []\n",
    "    if type_of_transformation == 'edge':\n",
    "        c = [cycle1, cycle2][id]\n",
    "        moves = []\n",
    "        for v in [i,j]:\n",
    "            z = np.where(np.array(c)  == v)[0][0]\n",
    "            for x in range(len(c)):\n",
    "                if x == z:\n",
    "                    continue\n",
    "                d = h.change_edges_inside(c, z, x, distances)\n",
    "                if d < -0.001:\n",
    "                    x1, y1, z1 = c[(z-1) % len(c)], c[z], c[(z + 1) % len(c)]\n",
    "                    x2, y2, z2 = c[(x-1) % len(c)], c[x], c[(x+1) % len(c)]\n",
    "                    moves.append((d, 'edge', id, x1, y1, z1, x2, y2, z2))\n",
    "    else:\n",
    "        i_index = np.where(np.array(cycle1)  == j)[0][0]\n",
    "        j_index = np.where(np.array(cycle2)  == i)[0][0]\n",
    "        for x in range(len(cycle1)):\n",
    "            c1, c2, d = h.change_vertices(cycle1, cycle2, i_index, x, distances)\n",
    "            if d < -0.001:\n",
    "                x1, y1, z1 = cycle1[(i_index-1) % len(cycle1)], cycle1[i_index], cycle1[(i_index + 1) % len(cycle1)]\n",
    "                x2, y2, z2 = cycle2[(x-1) % len(cycle2)], cycle2[x], cycle2[(x+1) % len(cycle2)]\n",
    "                moves.append((d, 'vertex', None, x1, y1, z1, x2, y2, z2))\n",
    "        for x in range(len(cycle2)):\n",
    "            c1, c2, d = h.change_vertices(cycle2, cycle1, j_index, x, distances)\n",
    "            if d < -0.001:\n",
    "                x1, y1, z1 = cycle1[(x-1) % len(cycle1)], cycle1[x], cycle1[(x + 1) % len(cycle1)]\n",
    "                x2, y2, z2 = cycle2[(j_index-1) % len(cycle2)], cycle2[j_index], cycle2[(j_index+1) % len(cycle2)]\n",
    "                moves.append((d, 'vertex', None, x1, y1, z1, x2, y2, z2))\n",
    "    return moves\n",
    "\n",
    "\n",
    "def lm_search(points, distances):\n",
    "    cycle1, cycle2 = h.random_solution(points, distances)\n",
    "    lm = sorted(h.get_moves(cycle1, cycle2, distances), key=lambda move: move[0])\n",
    "    while True:\n",
    "        performed_move = None\n",
    "        for move in list(lm):\n",
    "            _, type_of_transformation, id, x1, y1, z1, x2, y2, z2 = move\n",
    "            if type_of_transformation == 'vertex':\n",
    "                e1 = edge_exists(cycle1, x1, y1)\n",
    "                e2 = edge_exists(cycle1, y1, z1)\n",
    "                e3 = edge_exists(cycle2, x2, y2)\n",
    "                e4 = edge_exists(cycle2, y2, z2)\n",
    "                if e1 is None or e2 is None or e3 is None or e4 is None:\n",
    "                    lm.remove(move)\n",
    "                elif e1 == e2 and e3==e4:\n",
    "                    lm.remove(move)\n",
    "                    performed_move = move\n",
    "                    break\n",
    "            if type_of_transformation == 'edge':\n",
    "                c1, e1 = any_edge_exist(cycle1, cycle2, y1, z1)\n",
    "                c2, e2 = any_edge_exist(cycle1, cycle2, y2, z2)\n",
    "                if c1 != c2 or e1 is None or e2 is None:\n",
    "                    lm.remove(move)\n",
    "                elif e1 == e2 == True:\n",
    "                    lm.remove(move)\n",
    "                    performed_move = move\n",
    "                    break\n",
    "                elif e1 == e2 == False:\n",
    "                    lm.remove(move)\n",
    "                    _, type_of_transformation, id, x1, y1, z1, x2, y2, z2 = move\n",
    "                    performed_move = move[0], 'edge', id, x1, z1, y1, x2, z2, y2\n",
    "                    break\n",
    "\n",
    "        if performed_move is None:\n",
    "            break\n",
    "        else:\n",
    "            cycle1, cycle2  = h.apply_move(performed_move, cycle1, cycle2, distances)\n",
    "\n",
    "        n_moves = new_moves(cycle1, cycle2, distances, performed_move)\n",
    "        lm = sorted(list(set(lm).union(set(n_moves))), key=lambda x: x[0])\n",
    "    return cycle1, cycle2\n",
    "\n",
    "\n",
    "def candidate_search(points, distances):\n",
    "    cycle1, cycle2 = h.random_solution(points, distances)\n",
    "    closest = np.argpartition(distances, 8, axis=1)[:,:8]\n",
    "    while True:\n",
    "        cycles = [cycle1, cycle2]\n",
    "        performed_move, best_delta = None, -0.001\n",
    "        for v1 in range(len(distances)):\n",
    "            for v2 in closest[v1]:\n",
    "                if v1 == v2: continue\n",
    "                c1, i = h.get_cycle_index(cycles, v1)\n",
    "                c2, j = h.get_cycle_index(cycles, v2)\n",
    "                move, delta = None, None\n",
    "                if c1 == c2:\n",
    "                    cycle = cycles[c1]\n",
    "                    delta = h.change_edges_inside(cycle, i, j, distances)\n",
    "                    x1, y1, z1 = cycle[(i-1) % len(cycle)], cycle[i], cycle[(i + 1) % len(cycle)]\n",
    "                    x2, y2, z2 = cycle[(j-1) % len(cycle)], cycle[j], cycle[(j + 1) % len(cycle)]\n",
    "                    move = delta, 'edge', c1, x1, y1, z1, x2, y2, z2\n",
    "                else:\n",
    "                    _, _, delta = h.change_vertices(cycles[c1], cycles[c2], i, j, distances)\n",
    "                    x1, y1, z1 = cycles[c1][(i-1) % len(cycle1)], cycles[c1][i], cycles[c1][(i + 1) % len(cycle1)]\n",
    "                    x2, y2, z2 = cycles[c2][(j-1) % len(cycle2)], cycles[c2][j], cycles[c2][(j + 1) % len(cycle2)]\n",
    "                    move = delta, 'vertex', None, x1, y1, z1, x2, y2, z2\n",
    "                if delta < best_delta:\n",
    "                    best_delta = delta\n",
    "                    performed_move = move\n",
    "\n",
    "        if performed_move is None:\n",
    "            break\n",
    "        cycle1, cycle2 = h.apply_move(performed_move, cycle1, cycle2, distances)\n",
    "    return cycles[0], cycles[1]\n"
   ],
   "metadata": {
    "collapsed": false,
    "pycharm": {
     "name": "#%%\n"
    }
   }
  },
  {
   "cell_type": "code",
   "execution_count": null,
   "outputs": [],
   "source": [
    "importlib.reload(h)"
   ],
   "metadata": {
    "collapsed": false,
    "pycharm": {
     "name": "#%%\n"
    }
   }
  },
  {
   "cell_type": "code",
   "execution_count": null,
   "outputs": [],
   "source": [
    "import time\n",
    "\n",
    "results = {\n",
    "    ('regret_method' , 'kroA200.tsp') : [],\n",
    "    ('steepest_search', 'kroA200.tsp')  : [],\n",
    "    ('lm_search', 'kroA200.tsp')  : [],\n",
    "    ('candidate_search', 'kroA200.tsp') : [],\n",
    "\n",
    "    ('regret_method', 'kroB200.tsp')  : [],\n",
    "    ('steepest_search', 'kroB200.tsp')  : [],\n",
    "    ('lm_search', 'kroB200.tsp')  : [],\n",
    "    ('candidate_search', 'kroB200.tsp') : []\n",
    "}\n",
    "\n",
    "time_val = {\n",
    "    ('regret_method', 'kroA200.tsp') : [],\n",
    "    ('steepest_search', 'kroA200.tsp')  : [],\n",
    "    ('lm_search', 'kroA200.tsp') : [],\n",
    "    ('candidate_search', 'kroA200.tsp'): [],\n",
    "\n",
    "    ('regret_method', 'kroB200.tsp') :  [],\n",
    "    ('steepest_search', 'kroB200.tsp')  : [],\n",
    "    ('lm_search', 'kroB200.tsp') : [],\n",
    "    ('candidate_search', 'kroB200.tsp'): []\n",
    "}\n",
    "\n",
    "min_cycles = {\n",
    "    ('regret_method', 'kroA200.tsp')  : [None, None],\n",
    "    ('steepest_search', 'kroA200.tsp')  : [None, None],\n",
    "    ('lm_search', 'kroA200.tsp')  : [None, None],\n",
    "    ('candidate_search', 'kroA200.tsp') : [None, None],\n",
    "\n",
    "    ('regret_method', 'kroB200.tsp')  : [None, None],\n",
    "    ('steepest_search', 'kroB200.tsp')  : [None, None],\n",
    "    ('lm_search', 'kroB200.tsp')  : [None, None],\n",
    "    ('candidate_search', 'kroB200.tsp') : [None, None]\n",
    "}\n",
    "from helpers import steepest_search\n",
    "from tqdm import tqdm\n",
    "for i in tqdm(range(100)):\n",
    "    for file in ['kroA200.tsp', 'kroB200.tsp']:\n",
    "        points = h.load_file(file)\n",
    "        distances = h.get_distances(points)\n",
    "\n",
    "        start = time.time()\n",
    "        cycle1, cycle2 = h.regret_method(points, distances)\n",
    "        end = time.time()\n",
    "        time_val[('regret_method', file)].append(end-start)\n",
    "        c_len = h.cycle_length(distances, cycle1) + h.cycle_length(distances, cycle2)\n",
    "        results[('regret_method', file)].append(c_len)\n",
    "\n",
    "        if min_cycles[('regret_method', file)][0] is None or min_cycles[('regret_method', file)][0] > c_len:\n",
    "            min_cycles[('regret_method', file)][0] = c_len\n",
    "            min_cycles[('regret_method', file)][1] = [cycle1, cycle2]\n",
    "\n",
    "        for met in [steepest_search, lm_search, candidate_search]:\n",
    "            met_name = [name for name in globals() if globals()[name] is met][0]\n",
    "            points_copy = points.copy()\n",
    "            start = time.time()\n",
    "            c1, c2 = met(points_copy, distances)\n",
    "            end = time.time()\n",
    "            cycles_len = h.cycle_length(distances, c1) + h.cycle_length(distances, c2)\n",
    "            if min_cycles[(met_name, file)][0] is None or min_cycles[(met_name, file)][0] > cycles_len:\n",
    "                min_cycles[(met_name, file)][0] = cycles_len\n",
    "                min_cycles[(met_name, file)][1] = [c1, c2]\n",
    "            results[(met_name, file)].append(cycles_len)\n",
    "            time_val[(met_name, file)].append(end-start)\n",
    "for key, value in min_cycles.items():\n",
    "    print(key, value[0])\n",
    "    h.draw_path(h.load_file(key[1]), value[1][0], value[1][1], key[1] + \"_\" + key[0] + \".jpg\")\n",
    "pd.DataFrame(results).describe()"
   ],
   "metadata": {
    "collapsed": false,
    "pycharm": {
     "name": "#%%\n",
     "is_executing": true
    }
   }
  },
  {
   "cell_type": "code",
   "execution_count": null,
   "outputs": [],
   "source": [
    "pd.DataFrame(time_val).describe()"
   ],
   "metadata": {
    "collapsed": false,
    "pycharm": {
     "name": "#%%\n"
    }
   }
  },
  {
   "cell_type": "code",
   "execution_count": null,
   "outputs": [],
   "source": [
    "pd.DataFrame(results).describe()"
   ],
   "metadata": {
    "collapsed": false,
    "pycharm": {
     "name": "#%%\n"
    }
   }
  }
 ],
 "metadata": {
  "kernelspec": {
   "display_name": "Python 3",
   "language": "python",
   "name": "python3"
  },
  "language_info": {
   "codemirror_mode": {
    "name": "ipython",
    "version": 2
   },
   "file_extension": ".py",
   "mimetype": "text/x-python",
   "name": "python",
   "nbconvert_exporter": "python",
   "pygments_lexer": "ipython2",
   "version": "2.7.6"
  }
 },
 "nbformat": 4,
 "nbformat_minor": 0
}